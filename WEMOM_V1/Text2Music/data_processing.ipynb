{
 "cells": [
  {
   "cell_type": "code",
   "execution_count": 2,
   "metadata": {},
   "outputs": [],
   "source": [
    "\n",
    "import numpy as np\n",
    "import os\n"
   ]
  },
  {
   "cell_type": "code",
   "execution_count": null,
   "metadata": {},
   "outputs": [],
   "source": [
    "text_arousal_path = 'D:/PolyU/URIS/Part2_projects/WEMOM_V1/Data/Saves/Text_CL_arousal_lst.npy'\n",
    "music_arousal_path = 'D:/PolyU/URIS/Part2_projects/WEMOM_V1/Data/Saves/Music_CL_arousal_lst.npy'\n",
    "\n",
    "text_valence_path = 'D:/PolyU/URIS/Part2_projects/WEMOM_V1/Data/Saves/Text_CL_valence_lst.npy'\n",
    "music_valence_path = 'D:/PolyU/URIS/Part2_projects/WEMOM_V1/Data/Saves/Music_CL_valence_lst.npy'\n",
    "\n"
   ]
  },
  {
   "cell_type": "code",
   "execution_count": 3,
   "metadata": {},
   "outputs": [
    {
     "name": "stdout",
     "output_type": "stream",
     "text": [
      "Music Dataset: [{'index': 0, 'arousal': 4.333333333, 'valence': 5.833333333}, {'index': 1, 'arousal': 6.0, 'valence': 8.0}, {'index': 2, 'arousal': 8.333333333, 'valence': 6.333333333}, {'index': 3, 'arousal': 3.833333333, 'valence': 3.0}, {'index': 4, 'arousal': 3.333333333, 'valence': 6.5}]\n",
      "Text Dataset: [{'index': 0, 'arousal': 5.5, 'valence': 4.92}, {'index': 1, 'arousal': 4.18, 'valence': 4.65}, {'index': 2, 'arousal': 7.42, 'valence': 5.77}, {'index': 3, 'arousal': 4.54, 'valence': 3.28}, {'index': 4, 'arousal': 3.42, 'valence': 5.59}]\n"
     ]
    }
   ],
   "source": [
    "music_arousal = np.load(music_arousal_path)\n",
    "music_valence = np.load(music_valence_path)\n",
    "\n",
    "text_arousal = np.load(text_arousal_path)\n",
    "text_valence = np.load(text_valence_path)\n",
    "\n",
    "music_dataset = [\n",
    "    {\n",
    "        \"index\": i,\n",
    "        \"arousal\": float(arousal),\n",
    "        \"valence\": float(valence) \n",
    "    }\n",
    "    for i, (arousal, valence) in enumerate(zip(music_arousal, music_valence))\n",
    "]\n",
    "\n",
    "text_dataset = [\n",
    "    {\n",
    "        \"index\": i,\n",
    "        \"arousal\": float(arousal),\n",
    "        \"valence\": float(valence) \n",
    "    }\n",
    "    for i, (arousal, valence) in enumerate(zip(text_arousal, text_valence))\n",
    "]\n",
    "\n",
    "print(\"Music Dataset:\", music_dataset[:5]) \n",
    "print(\"Text Dataset:\", text_dataset[:5])    "
   ]
  },
  {
   "cell_type": "code",
   "execution_count": 4,
   "metadata": {},
   "outputs": [
    {
     "name": "stdout",
     "output_type": "stream",
     "text": [
      "Music Dataset Length: 985\n",
      "Text Dataset Length: 6832\n"
     ]
    }
   ],
   "source": [
    "print(\"Music Dataset Length:\", len(music_dataset))\n",
    "print(\"Text Dataset Length:\", len(text_dataset))"
   ]
  },
  {
   "cell_type": "code",
   "execution_count": 6,
   "metadata": {},
   "outputs": [
    {
     "name": "stdout",
     "output_type": "stream",
     "text": [
      "Samples saved to D:/PolyU/URIS/Part2_projects/WEMOM_V1/Text2Music/Samples/\n"
     ]
    }
   ],
   "source": [
    "import random\n",
    "\n",
    "save_path = 'D:/PolyU/URIS/Part2_projects/WEMOM_V1/Text2Music/Samples/'\n",
    "\n",
    "n = 4  \n",
    "num_anchors = 100 \n",
    "train_ratio = 0.8 \n",
    "\n",
    "def calculate_similarity(valence1, arousal1, valence2, arousal2):\n",
    "    return ((valence1 - valence2) ** 2 + (arousal1 - arousal2) ** 2) ** 0.5\n",
    "\n",
    "def save_samples_to_folder(samples, filename):\n",
    "    filepath = os.path.join(save_path, filename)\n",
    "    with open(filepath, \"w\") as f:\n",
    "        for sample in samples:\n",
    "            f.write(\" \".join(map(str, sample)) + \"\\n\")\n",
    "\n",
    "def build_samples(text_dataset, music_dataset, n, num_anchors):\n",
    "    anchors = random.sample(text_dataset, num_anchors)  \n",
    "    text_pos_samples = []\n",
    "    text_neg_samples = []\n",
    "    music_pos_samples = []\n",
    "    music_neg_samples = []\n",
    "\n",
    "    for anchor in anchors:\n",
    "        anchor_index = anchor[\"index\"]\n",
    "        anchor_valence = anchor[\"valence\"]\n",
    "        anchor_arousal = anchor[\"arousal\"]\n",
    "\n",
    "        music_similarities = [\n",
    "            {\n",
    "                \"index\": music[\"index\"],\n",
    "                \"similarity\": calculate_similarity(\n",
    "                    anchor_valence, anchor_arousal, music[\"valence\"], music[\"arousal\"]\n",
    "                ),\n",
    "            }\n",
    "            for music in music_dataset\n",
    "        ]\n",
    "        music_similarities.sort(key=lambda x: x[\"similarity\"]) \n",
    "\n",
    "        text_similarities = [\n",
    "            {\n",
    "                \"index\": text[\"index\"],\n",
    "                \"similarity\": calculate_similarity(\n",
    "                    anchor_valence, anchor_arousal, text[\"valence\"], text[\"arousal\"]\n",
    "                ),\n",
    "            }\n",
    "            for text in text_dataset\n",
    "        ]\n",
    "        text_similarities.sort(key=lambda x: x[\"similarity\"])  \n",
    "\n",
    "        music_pos_samples.append([anchor_index] + [x[\"index\"] for x in music_similarities[:n]])\n",
    "        music_neg_samples.append([anchor_index] + [x[\"index\"] for x in music_similarities[-n:]])\n",
    "        text_pos_samples.append([anchor_index] + [x[\"index\"] for x in text_similarities[:n]])\n",
    "        text_neg_samples.append([anchor_index] + [x[\"index\"] for x in text_similarities[-n:]])\n",
    "\n",
    "    return anchors, text_pos_samples, text_neg_samples, music_pos_samples, music_neg_samples\n",
    "\n",
    "anchors, text_pos_samples, text_neg_samples, music_pos_samples, music_neg_samples = build_samples(\n",
    "    text_dataset, music_dataset, n, num_anchors\n",
    ")\n",
    "\n",
    "train_size = int(len(text_pos_samples) * train_ratio)\n",
    "\n",
    "train_text_pos_samples = text_pos_samples[:train_size]\n",
    "test_text_pos_samples = text_pos_samples[train_size:]\n",
    "\n",
    "train_text_neg_samples = text_neg_samples[:train_size]\n",
    "test_text_neg_samples = text_neg_samples[train_size:]\n",
    "\n",
    "train_music_pos_samples = music_pos_samples[:train_size]\n",
    "test_music_pos_samples = music_pos_samples[train_size:]\n",
    "\n",
    "train_music_neg_samples = music_neg_samples[:train_size]\n",
    "test_music_neg_samples = music_neg_samples[train_size:]\n",
    "\n",
    "save_samples_to_folder(train_text_pos_samples, \"train_text_pos_samples.txt\")\n",
    "save_samples_to_folder(test_text_pos_samples, \"test_text_pos_samples.txt\")\n",
    "save_samples_to_folder(train_text_neg_samples, \"train_text_neg_samples.txt\")\n",
    "save_samples_to_folder(test_text_neg_samples, \"test_text_neg_samples.txt\")\n",
    "save_samples_to_folder(train_music_pos_samples, \"train_music_pos_samples.txt\")\n",
    "save_samples_to_folder(test_music_pos_samples, \"test_music_pos_samples.txt\")\n",
    "save_samples_to_folder(train_music_neg_samples, \"train_music_neg_samples.txt\")\n",
    "save_samples_to_folder(test_music_neg_samples, \"test_music_neg_samples.txt\")\n",
    "\n",
    "print(\"Samples saved to\", save_path)"
   ]
  },
  {
   "cell_type": "code",
   "execution_count": 5,
   "metadata": {},
   "outputs": [
    {
     "name": "stdout",
     "output_type": "stream",
     "text": [
      "music shape:(985, 256)\n",
      "text shape:(6832, 128)\n"
     ]
    }
   ],
   "source": [
    "features1 = \"D:/PolyU/URIS/Part2_projects/WEMOM_V1/Data/music_z.npy\"\n",
    "features2 = \"D:/PolyU/URIS/Part2_projects/WEMOM_V1/Data/text_z.npy\"\n",
    "\n",
    "\n",
    "music = np.load(features1)\n",
    "print(f\"music shape:{music.shape}\")  \n",
    "text = np.load(features2)\n",
    "print(f\"text shape:{text.shape}\")\n"
   ]
  }
 ],
 "metadata": {
  "kernelspec": {
   "display_name": "Python 3",
   "language": "python",
   "name": "python3"
  },
  "language_info": {
   "codemirror_mode": {
    "name": "ipython",
    "version": 3
   },
   "file_extension": ".py",
   "mimetype": "text/x-python",
   "name": "python",
   "nbconvert_exporter": "python",
   "pygments_lexer": "ipython3",
   "version": "3.13.2"
  }
 },
 "nbformat": 4,
 "nbformat_minor": 2
}

{
 "cells": [
  {
   "cell_type": "code",
   "execution_count": 1,
   "id": "9532b62f",
   "metadata": {},
   "outputs": [],
   "source": [
    "import pandas as pd\n",
    "import numpy as np\n",
    "import os"
   ]
  },
  {
   "cell_type": "code",
   "execution_count": 2,
   "id": "e7ba79ff",
   "metadata": {},
   "outputs": [],
   "source": [
    "import matplotlib.pyplot as plt"
   ]
  },
  {
   "cell_type": "code",
   "execution_count": 3,
   "id": "562e0dc8",
   "metadata": {},
   "outputs": [],
   "source": [
    "VA_data_path = 'D:/PolyU/URIS/Part2_projects/WEMOM_V1/Data/All_Data/labels.csv'\n",
    "save_path = 'D:/PolyU/URIS/Part2_projects/WEMOM_V1/Data/Saves/'"
   ]
  },
  {
   "cell_type": "code",
   "execution_count": 4,
   "id": "f9bdba67",
   "metadata": {},
   "outputs": [
    {
     "name": "stdout",
     "output_type": "stream",
     "text": [
      "Reading valence and arousal data from: D:/PolyU/URIS/Part2_projects/WEMOM_V1/Data/All_Data/labels.csv\n",
      "Index(['Unnamed: 0', 'Valence', 'Arousal', 'Valence.1', 'Arousal.1',\n",
      "       'Valence.2', 'Arousal.2', 'Valence.3', 'Arousal.3', 'Valence.4',\n",
      "       'Arousal.4', 'Valence.5', 'Arousal.5', 'Valence_Mean', 'Arousal_Mean'],\n",
      "      dtype='object')\n"
     ]
    }
   ],
   "source": [
    "print(f\"Reading valence and arousal data from: {VA_data_path}\")\n",
    "df = pd.read_csv(VA_data_path)\n",
    "print(df.columns)"
   ]
  },
  {
   "cell_type": "code",
   "execution_count": 5,
   "id": "b7ad2948",
   "metadata": {},
   "outputs": [],
   "source": [
    "del_VA_list = [\"0491\", \"0838\", \"0907\", \"1511\", \"1595\", \"1752\", \"1803\", \"1809\",\"1834\",\"2110\",\"2449\",\"2726\",\"2731\",\"2815\",\"2933\"]\n",
    "del_indices = [int(x) - 1 for x in del_VA_list]\n",
    "df_dropped = df.drop(del_indices)"
   ]
  },
  {
   "cell_type": "code",
   "execution_count": 10,
   "id": "2a313ed5",
   "metadata": {},
   "outputs": [
    {
     "name": "stdout",
     "output_type": "stream",
     "text": [
      "Valence Mean Counts:\n",
      "Valence_Mean\n",
      "1.833333      1\n",
      "2.000000      4\n",
      "2.166667      8\n",
      "2.333333     14\n",
      "2.500000     29\n",
      "2.666667     36\n",
      "2.833333     41\n",
      "3.000000     60\n",
      "3.166667     72\n",
      "3.333333     83\n",
      "3.500000     92\n",
      "3.600000      1\n",
      "3.666667    111\n",
      "3.833333     95\n",
      "4.000000    100\n",
      "4.166667    100\n",
      "4.333333    107\n",
      "4.500000    104\n",
      "4.666667     99\n",
      "4.833333    112\n",
      "5.000000    102\n",
      "5.166667    116\n",
      "5.333333    103\n",
      "5.500000    125\n",
      "5.666667    123\n",
      "5.833333    140\n",
      "6.000000    132\n",
      "6.166667    116\n",
      "6.333333    118\n",
      "6.500000    112\n",
      "6.666667    103\n",
      "6.833333    115\n",
      "7.000000    103\n",
      "7.166667     77\n",
      "7.333333     54\n",
      "7.500000     34\n",
      "7.666667     22\n",
      "7.833333     13\n",
      "8.000000      6\n",
      "8.166667      2\n",
      "Name: count, dtype: int64\n"
     ]
    }
   ],
   "source": [
    "count_valence = df_dropped['Valence_Mean'].value_counts().sort_index()\n",
    "count_arousal = df_dropped['Arousal_Mean'].value_counts().sort_index()\n",
    "\n",
    "print(\"Valence Mean Counts:\")\n",
    "print(count_valence)"
   ]
  },
  {
   "cell_type": "code",
   "execution_count": 12,
   "id": "d32fdf9c",
   "metadata": {},
   "outputs": [
    {
     "data": {
      "image/png": "[encoded data removed]",
      "text/plain": [
       "<Figure size 640x480 with 1 Axes>"
      ]
     },
     "metadata": {},
     "output_type": "display_data"
    }
   ],
   "source": [
    "plt.bar(count_valence.index-0.2, count_valence.values, width=0.4, label='Valence', align='center')\n",
    "plt.bar(count_arousal.index+0.2, count_arousal.values, width=0.4, label='Arousal', align='center')\n",
    "\n",
    "plt.xlabel('Valence/Arousal Mean')\n",
    "plt.ylabel('Count')\n",
    "plt.title(\"\")\n",
    "plt.xticks(np.arange(1, 11, 1))\n",
    "plt.ylim(0, max(count_valence.max(), count_arousal.max()) + 1)\n",
    "plt.legend()\n",
    "plt.show()"
   ]
  },
  {
   "cell_type": "code",
   "execution_count": 8,
   "id": "76be89e1",
   "metadata": {},
   "outputs": [],
   "source": [
    "\n",
    "Arousal_lst = df_dropped['Arousal_Mean'].tolist()\n",
    "Valence_lst = df_dropped['Valence_Mean'].tolist()\n"
   ]
  },
  {
   "cell_type": "code",
   "execution_count": 9,
   "id": "d70c68f1",
   "metadata": {},
   "outputs": [],
   "source": [
    "arousal_lst = np.array(Arousal_lst)\n",
    "valence_lst = np.array(Valence_lst)"
   ]
  },
  {
   "cell_type": "code",
   "execution_count": 10,
   "id": "53438e70",
   "metadata": {},
   "outputs": [
    {
     "name": "stdout",
     "output_type": "stream",
     "text": [
      "Number of Arousal: 2985\n",
      "Number of Valence: 2985\n"
     ]
    }
   ],
   "source": [
    "print(f\"Number of Arousal: {len(Arousal_lst)}\")\n",
    "print(f\"Number of Valence: {len(Valence_lst)}\")"
   ]
  },
  {
   "cell_type": "code",
   "execution_count": 11,
   "id": "a631a5c7",
   "metadata": {},
   "outputs": [],
   "source": [
    "\n",
    "label_lst = np.zeros(valence_lst.shape, dtype=int)\n",
    "label_lst[(valence_lst <= 5) & (arousal_lst <= 5)] = 0\n",
    "label_lst[(valence_lst <= 5) & (arousal_lst > 5)] = 1\n",
    "label_lst[(valence_lst > 5) & (arousal_lst <= 5)] = 2\n",
    "label_lst[(valence_lst > 5) & (arousal_lst > 5)] = 3\n"
   ]
  },
  {
   "cell_type": "code",
   "execution_count": 12,
   "id": "badcc53a",
   "metadata": {},
   "outputs": [],
   "source": [
    "data_lst = np.load(save_path + \"data.npy\", allow_pickle=True)\n",
    "rhythm_lst = np.load(save_path + \"rhythm.npy\", allow_pickle=True)\n",
    "note_density_lst = np.load(save_path + \"note_density.npy\", allow_pickle=True)\n",
    "chroma_lst = np.load(save_path + \"chroma.npy\", allow_pickle=True)"
   ]
  },
  {
   "cell_type": "code",
   "execution_count": 13,
   "id": "23b442d7",
   "metadata": {},
   "outputs": [],
   "source": [
    "lists = {\n",
    "    'data': data_lst,\n",
    "    'rhythm': rhythm_lst,\n",
    "    'note_density': note_density_lst,\n",
    "    'chroma': chroma_lst,\n",
    "    'label': label_lst,\n",
    "    'valence': valence_lst,\n",
    "    'arousal': arousal_lst\n",
    "}"
   ]
  },
  {
   "cell_type": "code",
   "execution_count": 17,
   "id": "5e2fc862",
   "metadata": {},
   "outputs": [
    {
     "name": "stdout",
     "output_type": "stream",
     "text": [
      "Music_VAE_data_lst.npy saved successfully!\n",
      "Music_CL_data_lst.npy saved successfully!\n",
      "Music_VAE_rhythm_lst.npy saved successfully!\n",
      "Music_CL_rhythm_lst.npy saved successfully!\n",
      "Music_VAE_note_density_lst.npy saved successfully!\n",
      "Music_CL_note_density_lst.npy saved successfully!\n",
      "Music_VAE_chroma_lst.npy saved successfully!\n",
      "Music_CL_chroma_lst.npy saved successfully!\n",
      "Music_VAE_label_lst.npy saved successfully!\n",
      "Music_CL_label_lst.npy saved successfully!\n",
      "Music_VAE_valence_lst.npy saved successfully!\n",
      "Music_CL_valence_lst.npy saved successfully!\n",
      "Music_VAE_arousal_lst.npy saved successfully!\n",
      "Music_CL_arousal_lst.npy saved successfully!\n"
     ]
    }
   ],
   "source": [
    "new_lists = {}\n",
    "for name, lst in lists.items():\n",
    "    new_lists[f'Music_VAE_{name}_lst'] = lst[:2000]  \n",
    "    new_lists[f'Music_CL_{name}_lst'] = lst[2000:]  \n",
    "\n",
    "for key, value in new_lists.items():\n",
    "    np.save(os.path.join(save_path + f\"{key}.npy\"), value)\n",
    "\n",
    "for key in new_lists.keys():\n",
    "    print(f\"{key}.npy saved successfully!\")"
   ]
  },
  {
   "cell_type": "code",
   "execution_count": 18,
   "id": "0c6a429e",
   "metadata": {},
   "outputs": [
    {
     "name": "stdout",
     "output_type": "stream",
     "text": [
      "Name of the list: Music_VAE_data_lst\n",
      "Shape of list: (2000, 1057)\n",
      "Name of the list: Music_CL_data_lst\n",
      "Shape of list: (985, 1057)\n",
      "Name of the list: Music_VAE_rhythm_lst\n",
      "Shape of list: (2000,)\n",
      "Name of the list: Music_CL_rhythm_lst\n",
      "Shape of list: (985,)\n",
      "Name of the list: Music_VAE_note_density_lst\n",
      "Shape of list: (2000,)\n",
      "Name of the list: Music_CL_note_density_lst\n",
      "Shape of list: (985,)\n",
      "Name of the list: Music_VAE_chroma_lst\n",
      "Shape of list: (2000,)\n",
      "Name of the list: Music_CL_chroma_lst\n",
      "Shape of list: (985,)\n",
      "Name of the list: Music_VAE_label_lst\n",
      "Shape of list: (2000,)\n",
      "Name of the list: Music_CL_label_lst\n",
      "Shape of list: (985,)\n",
      "Name of the list: Music_VAE_valence_lst\n",
      "Shape of list: (2000,)\n",
      "Name of the list: Music_CL_valence_lst\n",
      "Shape of list: (985,)\n",
      "Name of the list: Music_VAE_arousal_lst\n",
      "Shape of list: (2000,)\n",
      "Name of the list: Music_CL_arousal_lst\n",
      "Shape of list: (985,)\n"
     ]
    }
   ],
   "source": [
    "for key, value in new_lists.items():\n",
    "    print(f\"Name of the list: {key}\")\n",
    "    print(f\"Shape of list: {np.shape(value)}\")"
   ]
  }
 ],
 "metadata": {
  "kernelspec": {
   "display_name": "Python 3",
   "language": "python",
   "name": "python3"
  },
  "language_info": {
   "codemirror_mode": {
    "name": "ipython",
    "version": 3
   },
   "file_extension": ".py",
   "mimetype": "text/x-python",
   "name": "python",
   "nbconvert_exporter": "python",
   "pygments_lexer": "ipython3",
   "version": "3.13.2"
  }
 },
 "nbformat": 4,
 "nbformat_minor": 5
}
